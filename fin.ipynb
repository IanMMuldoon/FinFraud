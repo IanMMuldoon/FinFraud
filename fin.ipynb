{
 "cells": [
  {
   "cell_type": "code",
   "execution_count": 1,
   "source": [
    "from IPython.core.interactiveshell import InteractiveShell\r\n",
    "InteractiveShell.ast_node_interactivity = \"all\"\r\n",
    "\r\n",
    "import pandas as pd"
   ],
   "outputs": [],
   "metadata": {}
  },
  {
   "cell_type": "code",
   "execution_count": 3,
   "source": [
    "df = pd.read_csv(\"data/bs.csv\")\r\n",
    "df.head()"
   ],
   "outputs": [
    {
     "output_type": "execute_result",
     "data": {
      "text/html": [
       "<div>\n",
       "<style scoped>\n",
       "    .dataframe tbody tr th:only-of-type {\n",
       "        vertical-align: middle;\n",
       "    }\n",
       "\n",
       "    .dataframe tbody tr th {\n",
       "        vertical-align: top;\n",
       "    }\n",
       "\n",
       "    .dataframe thead th {\n",
       "        text-align: right;\n",
       "    }\n",
       "</style>\n",
       "<table border=\"1\" class=\"dataframe\">\n",
       "  <thead>\n",
       "    <tr style=\"text-align: right;\">\n",
       "      <th></th>\n",
       "      <th>step</th>\n",
       "      <th>customer</th>\n",
       "      <th>age</th>\n",
       "      <th>gender</th>\n",
       "      <th>zipcodeOri</th>\n",
       "      <th>merchant</th>\n",
       "      <th>zipMerchant</th>\n",
       "      <th>category</th>\n",
       "      <th>amount</th>\n",
       "      <th>fraud</th>\n",
       "    </tr>\n",
       "  </thead>\n",
       "  <tbody>\n",
       "    <tr>\n",
       "      <th>0</th>\n",
       "      <td>0</td>\n",
       "      <td>'C1093826151'</td>\n",
       "      <td>'4'</td>\n",
       "      <td>'M'</td>\n",
       "      <td>'28007'</td>\n",
       "      <td>'M348934600'</td>\n",
       "      <td>'28007'</td>\n",
       "      <td>'es_transportation'</td>\n",
       "      <td>4.55</td>\n",
       "      <td>0</td>\n",
       "    </tr>\n",
       "    <tr>\n",
       "      <th>1</th>\n",
       "      <td>0</td>\n",
       "      <td>'C352968107'</td>\n",
       "      <td>'2'</td>\n",
       "      <td>'M'</td>\n",
       "      <td>'28007'</td>\n",
       "      <td>'M348934600'</td>\n",
       "      <td>'28007'</td>\n",
       "      <td>'es_transportation'</td>\n",
       "      <td>39.68</td>\n",
       "      <td>0</td>\n",
       "    </tr>\n",
       "    <tr>\n",
       "      <th>2</th>\n",
       "      <td>0</td>\n",
       "      <td>'C2054744914'</td>\n",
       "      <td>'4'</td>\n",
       "      <td>'F'</td>\n",
       "      <td>'28007'</td>\n",
       "      <td>'M1823072687'</td>\n",
       "      <td>'28007'</td>\n",
       "      <td>'es_transportation'</td>\n",
       "      <td>26.89</td>\n",
       "      <td>0</td>\n",
       "    </tr>\n",
       "    <tr>\n",
       "      <th>3</th>\n",
       "      <td>0</td>\n",
       "      <td>'C1760612790'</td>\n",
       "      <td>'3'</td>\n",
       "      <td>'M'</td>\n",
       "      <td>'28007'</td>\n",
       "      <td>'M348934600'</td>\n",
       "      <td>'28007'</td>\n",
       "      <td>'es_transportation'</td>\n",
       "      <td>17.25</td>\n",
       "      <td>0</td>\n",
       "    </tr>\n",
       "    <tr>\n",
       "      <th>4</th>\n",
       "      <td>0</td>\n",
       "      <td>'C757503768'</td>\n",
       "      <td>'5'</td>\n",
       "      <td>'M'</td>\n",
       "      <td>'28007'</td>\n",
       "      <td>'M348934600'</td>\n",
       "      <td>'28007'</td>\n",
       "      <td>'es_transportation'</td>\n",
       "      <td>35.72</td>\n",
       "      <td>0</td>\n",
       "    </tr>\n",
       "  </tbody>\n",
       "</table>\n",
       "</div>"
      ],
      "text/plain": [
       "   step       customer  age gender zipcodeOri       merchant zipMerchant  \\\n",
       "0     0  'C1093826151'  '4'    'M'    '28007'   'M348934600'     '28007'   \n",
       "1     0   'C352968107'  '2'    'M'    '28007'   'M348934600'     '28007'   \n",
       "2     0  'C2054744914'  '4'    'F'    '28007'  'M1823072687'     '28007'   \n",
       "3     0  'C1760612790'  '3'    'M'    '28007'   'M348934600'     '28007'   \n",
       "4     0   'C757503768'  '5'    'M'    '28007'   'M348934600'     '28007'   \n",
       "\n",
       "              category  amount  fraud  \n",
       "0  'es_transportation'    4.55      0  \n",
       "1  'es_transportation'   39.68      0  \n",
       "2  'es_transportation'   26.89      0  \n",
       "3  'es_transportation'   17.25      0  \n",
       "4  'es_transportation'   35.72      0  "
      ]
     },
     "metadata": {},
     "execution_count": 3
    }
   ],
   "metadata": {}
  },
  {
   "cell_type": "code",
   "execution_count": 4,
   "source": [
    "df2= pd.read_csv(\"data/bsNET.csv\")\r\n",
    "df2.head()"
   ],
   "outputs": [
    {
     "output_type": "execute_result",
     "data": {
      "text/html": [
       "<div>\n",
       "<style scoped>\n",
       "    .dataframe tbody tr th:only-of-type {\n",
       "        vertical-align: middle;\n",
       "    }\n",
       "\n",
       "    .dataframe tbody tr th {\n",
       "        vertical-align: top;\n",
       "    }\n",
       "\n",
       "    .dataframe thead th {\n",
       "        text-align: right;\n",
       "    }\n",
       "</style>\n",
       "<table border=\"1\" class=\"dataframe\">\n",
       "  <thead>\n",
       "    <tr style=\"text-align: right;\">\n",
       "      <th></th>\n",
       "      <th>Source</th>\n",
       "      <th>Target</th>\n",
       "      <th>Weight</th>\n",
       "      <th>typeTrans</th>\n",
       "      <th>fraud</th>\n",
       "    </tr>\n",
       "  </thead>\n",
       "  <tbody>\n",
       "    <tr>\n",
       "      <th>0</th>\n",
       "      <td>'C1093826151'</td>\n",
       "      <td>'M348934600'</td>\n",
       "      <td>4.55</td>\n",
       "      <td>'es_transportation'</td>\n",
       "      <td>0</td>\n",
       "    </tr>\n",
       "    <tr>\n",
       "      <th>1</th>\n",
       "      <td>'C352968107'</td>\n",
       "      <td>'M348934600'</td>\n",
       "      <td>39.68</td>\n",
       "      <td>'es_transportation'</td>\n",
       "      <td>0</td>\n",
       "    </tr>\n",
       "    <tr>\n",
       "      <th>2</th>\n",
       "      <td>'C2054744914'</td>\n",
       "      <td>'M1823072687'</td>\n",
       "      <td>26.89</td>\n",
       "      <td>'es_transportation'</td>\n",
       "      <td>0</td>\n",
       "    </tr>\n",
       "    <tr>\n",
       "      <th>3</th>\n",
       "      <td>'C1760612790'</td>\n",
       "      <td>'M348934600'</td>\n",
       "      <td>17.25</td>\n",
       "      <td>'es_transportation'</td>\n",
       "      <td>0</td>\n",
       "    </tr>\n",
       "    <tr>\n",
       "      <th>4</th>\n",
       "      <td>'C757503768'</td>\n",
       "      <td>'M348934600'</td>\n",
       "      <td>35.72</td>\n",
       "      <td>'es_transportation'</td>\n",
       "      <td>0</td>\n",
       "    </tr>\n",
       "  </tbody>\n",
       "</table>\n",
       "</div>"
      ],
      "text/plain": [
       "          Source         Target  Weight            typeTrans  fraud\n",
       "0  'C1093826151'   'M348934600'    4.55  'es_transportation'      0\n",
       "1   'C352968107'   'M348934600'   39.68  'es_transportation'      0\n",
       "2  'C2054744914'  'M1823072687'   26.89  'es_transportation'      0\n",
       "3  'C1760612790'   'M348934600'   17.25  'es_transportation'      0\n",
       "4   'C757503768'   'M348934600'   35.72  'es_transportation'      0"
      ]
     },
     "metadata": {},
     "execution_count": 4
    }
   ],
   "metadata": {}
  },
  {
   "cell_type": "code",
   "execution_count": 6,
   "source": [
    "df2 = df2.rename(columns={\"Source\": \"customer\", \"Target\": \"merchant\", \"Weight\": \"amount\", \"typeTrans\": \"category\"})\r\n",
    "df2.isin(df).all().all()"
   ],
   "outputs": [
    {
     "output_type": "execute_result",
     "data": {
      "text/plain": [
       "True"
      ]
     },
     "metadata": {},
     "execution_count": 6
    }
   ],
   "metadata": {}
  },
  {
   "cell_type": "code",
   "execution_count": 17,
   "source": [
    "cols = list(df.columns)\r\n",
    "fields = list(set(cols) - set([\"step\", \"customer\", \"merchant\", \"zipcodeOri\", \"zipMerchant\"]))\r\n",
    "for field in fields:\r\n",
    "    print(df.groupby(\"fraud\")[field].value_counts())"
   ],
   "outputs": [
    {
     "output_type": "stream",
     "name": "stdout",
     "text": [
      "fraud  fraud\n",
      "0      0        587443\n",
      "1      1          7200\n",
      "Name: fraud, dtype: int64\n",
      "fraud  age\n",
      "0      '2'    184966\n",
      "       '3'    145376\n",
      "       '4'    107615\n",
      "       '5'     61956\n",
      "       '1'     57442\n",
      "       '6'     26513\n",
      "       '0'      2404\n",
      "       'U'      1171\n",
      "1      '2'      2344\n",
      "       '3'      1755\n",
      "       '4'      1410\n",
      "       '1'       689\n",
      "       '5'       686\n",
      "       '6'       261\n",
      "       '0'        48\n",
      "       'U'         7\n",
      "Name: age, dtype: int64\n",
      "fraud  category               \n",
      "0      'es_transportation'        505119\n",
      "       'es_food'                   26254\n",
      "       'es_health'                 14437\n",
      "       'es_wellnessandbeauty'      14368\n",
      "       'es_fashion'                 6338\n",
      "       'es_barsandrestaurants'      6253\n",
      "       'es_hyper'                   5818\n",
      "       'es_tech'                    2212\n",
      "       'es_sportsandtoys'           2020\n",
      "       'es_home'                    1684\n",
      "       'es_hotelservices'           1196\n",
      "       'es_contents'                 885\n",
      "       'es_otherservices'            684\n",
      "       'es_travel'                   150\n",
      "       'es_leisure'                   25\n",
      "1      'es_sportsandtoys'           1982\n",
      "       'es_health'                  1696\n",
      "       'es_wellnessandbeauty'        718\n",
      "       'es_travel'                   578\n",
      "       'es_hotelservices'            548\n",
      "       'es_leisure'                  474\n",
      "       'es_home'                     302\n",
      "       'es_hyper'                    280\n",
      "       'es_otherservices'            228\n",
      "       'es_tech'                     158\n",
      "       'es_barsandrestaurants'       120\n",
      "       'es_fashion'                  116\n",
      "Name: category, dtype: int64\n",
      "fraud  amount \n",
      "0      14.93      146\n",
      "       26.67      146\n",
      "       17.57      144\n",
      "       16.12      143\n",
      "       17.26      143\n",
      "                 ... \n",
      "1      7403.44      1\n",
      "       7432.48      1\n",
      "       7635.41      1\n",
      "       7665.56      1\n",
      "       8329.96      1\n",
      "Name: amount, Length: 25741, dtype: int64\n",
      "fraud  gender\n",
      "0      'F'       319807\n",
      "       'M'       265950\n",
      "       'E'         1171\n",
      "       'U'          515\n",
      "1      'F'         4758\n",
      "       'M'         2435\n",
      "       'E'            7\n",
      "Name: gender, dtype: int64\n"
     ]
    }
   ],
   "metadata": {}
  },
  {
   "cell_type": "code",
   "execution_count": 22,
   "source": [
    "df.step.min()\r\n",
    "df.step.max()"
   ],
   "outputs": [
    {
     "output_type": "execute_result",
     "data": {
      "text/plain": [
       "0"
      ]
     },
     "metadata": {},
     "execution_count": 22
    },
    {
     "output_type": "execute_result",
     "data": {
      "text/plain": [
       "179"
      ]
     },
     "metadata": {},
     "execution_count": 22
    }
   ],
   "metadata": {}
  },
  {
   "cell_type": "code",
   "execution_count": 32,
   "source": [
    "import matplotlib\r\n",
    "df.amount.describe()\r\n",
    "df.hist(column= 'amount', bins=100)"
   ],
   "outputs": [
    {
     "output_type": "execute_result",
     "data": {
      "text/plain": [
       "count    594643.000000\n",
       "mean         37.890135\n",
       "std         111.402831\n",
       "min           0.000000\n",
       "25%          13.740000\n",
       "50%          26.900000\n",
       "75%          42.540000\n",
       "max        8329.960000\n",
       "Name: amount, dtype: float64"
      ]
     },
     "metadata": {},
     "execution_count": 32
    },
    {
     "output_type": "execute_result",
     "data": {
      "text/plain": [
       "array([[<AxesSubplot:title={'center':'amount'}>]], dtype=object)"
      ]
     },
     "metadata": {},
     "execution_count": 32
    },
    {
     "output_type": "display_data",
     "data": {
      "image/png": "[encoded data removed]",
      "text/plain": [
       "<Figure size 432x288 with 1 Axes>"
      ]
     },
     "metadata": {
      "needs_background": "light"
     }
    }
   ],
   "metadata": {}
  },
  {
   "cell_type": "code",
   "execution_count": 36,
   "source": [
    "df.amount.plot.box()"
   ],
   "outputs": [
    {
     "output_type": "execute_result",
     "data": {
      "text/plain": [
       "<AxesSubplot:>"
      ]
     },
     "metadata": {},
     "execution_count": 36
    },
    {
     "output_type": "display_data",
     "data": {
      "image/png": "[encoded data removed]",
      "text/plain": [
       "<Figure size 432x288 with 1 Axes>"
      ]
     },
     "metadata": {
      "needs_background": "light"
     }
    }
   ],
   "metadata": {}
  }
 ],
 "metadata": {
  "orig_nbformat": 4,
  "language_info": {
   "name": "python",
   "version": "3.9.7",
   "mimetype": "text/x-python",
   "codemirror_mode": {
    "name": "ipython",
    "version": 3
   },
   "pygments_lexer": "ipython3",
   "nbconvert_exporter": "python",
   "file_extension": ".py"
  },
  "kernelspec": {
   "name": "python3",
   "display_name": "Python 3.9.7 64-bit"
  },
  "interpreter": {
   "hash": "fe44fef87f92f48a3a32707d0df204585f471652bc0ce87358a3ce712bc24db0"
  }
 },
 "nbformat": 4,
 "nbformat_minor": 2
}