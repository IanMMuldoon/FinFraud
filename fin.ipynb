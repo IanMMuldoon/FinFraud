{
 "cells": [
  {
   "cell_type": "code",
   "execution_count": 30,
   "metadata": {},
   "outputs": [],
   "source": [
    "from IPython.core.interactiveshell import InteractiveShell\n",
    "InteractiveShell.ast_node_interactivity = \"all\"\n",
    "\n",
    "import pandas as pd"
   ]
  },
  {
   "cell_type": "code",
   "execution_count": 31,
   "metadata": {},
   "outputs": [
    {
     "data": {
      "text/html": [
       "<div>\n",
       "<style scoped>\n",
       "    .dataframe tbody tr th:only-of-type {\n",
       "        vertical-align: middle;\n",
       "    }\n",
       "\n",
       "    .dataframe tbody tr th {\n",
       "        vertical-align: top;\n",
       "    }\n",
       "\n",
       "    .dataframe thead th {\n",
       "        text-align: right;\n",
       "    }\n",
       "</style>\n",
       "<table border=\"1\" class=\"dataframe\">\n",
       "  <thead>\n",
       "    <tr style=\"text-align: right;\">\n",
       "      <th></th>\n",
       "      <th>step</th>\n",
       "      <th>customer</th>\n",
       "      <th>age</th>\n",
       "      <th>gender</th>\n",
       "      <th>zipcodeOri</th>\n",
       "      <th>merchant</th>\n",
       "      <th>zipMerchant</th>\n",
       "      <th>category</th>\n",
       "      <th>amount</th>\n",
       "      <th>fraud</th>\n",
       "    </tr>\n",
       "  </thead>\n",
       "  <tbody>\n",
       "    <tr>\n",
       "      <th>0</th>\n",
       "      <td>0</td>\n",
       "      <td>'C1093826151'</td>\n",
       "      <td>'4'</td>\n",
       "      <td>'M'</td>\n",
       "      <td>'28007'</td>\n",
       "      <td>'M348934600'</td>\n",
       "      <td>'28007'</td>\n",
       "      <td>'es_transportation'</td>\n",
       "      <td>4.55</td>\n",
       "      <td>0</td>\n",
       "    </tr>\n",
       "    <tr>\n",
       "      <th>1</th>\n",
       "      <td>0</td>\n",
       "      <td>'C352968107'</td>\n",
       "      <td>'2'</td>\n",
       "      <td>'M'</td>\n",
       "      <td>'28007'</td>\n",
       "      <td>'M348934600'</td>\n",
       "      <td>'28007'</td>\n",
       "      <td>'es_transportation'</td>\n",
       "      <td>39.68</td>\n",
       "      <td>0</td>\n",
       "    </tr>\n",
       "    <tr>\n",
       "      <th>2</th>\n",
       "      <td>0</td>\n",
       "      <td>'C2054744914'</td>\n",
       "      <td>'4'</td>\n",
       "      <td>'F'</td>\n",
       "      <td>'28007'</td>\n",
       "      <td>'M1823072687'</td>\n",
       "      <td>'28007'</td>\n",
       "      <td>'es_transportation'</td>\n",
       "      <td>26.89</td>\n",
       "      <td>0</td>\n",
       "    </tr>\n",
       "    <tr>\n",
       "      <th>3</th>\n",
       "      <td>0</td>\n",
       "      <td>'C1760612790'</td>\n",
       "      <td>'3'</td>\n",
       "      <td>'M'</td>\n",
       "      <td>'28007'</td>\n",
       "      <td>'M348934600'</td>\n",
       "      <td>'28007'</td>\n",
       "      <td>'es_transportation'</td>\n",
       "      <td>17.25</td>\n",
       "      <td>0</td>\n",
       "    </tr>\n",
       "    <tr>\n",
       "      <th>4</th>\n",
       "      <td>0</td>\n",
       "      <td>'C757503768'</td>\n",
       "      <td>'5'</td>\n",
       "      <td>'M'</td>\n",
       "      <td>'28007'</td>\n",
       "      <td>'M348934600'</td>\n",
       "      <td>'28007'</td>\n",
       "      <td>'es_transportation'</td>\n",
       "      <td>35.72</td>\n",
       "      <td>0</td>\n",
       "    </tr>\n",
       "  </tbody>\n",
       "</table>\n",
       "</div>"
      ],
      "text/plain": [
       "   step       customer  age gender zipcodeOri       merchant zipMerchant  \\\n",
       "0     0  'C1093826151'  '4'    'M'    '28007'   'M348934600'     '28007'   \n",
       "1     0   'C352968107'  '2'    'M'    '28007'   'M348934600'     '28007'   \n",
       "2     0  'C2054744914'  '4'    'F'    '28007'  'M1823072687'     '28007'   \n",
       "3     0  'C1760612790'  '3'    'M'    '28007'   'M348934600'     '28007'   \n",
       "4     0   'C757503768'  '5'    'M'    '28007'   'M348934600'     '28007'   \n",
       "\n",
       "              category  amount  fraud  \n",
       "0  'es_transportation'    4.55      0  \n",
       "1  'es_transportation'   39.68      0  \n",
       "2  'es_transportation'   26.89      0  \n",
       "3  'es_transportation'   17.25      0  \n",
       "4  'es_transportation'   35.72      0  "
      ]
     },
     "execution_count": 31,
     "metadata": {},
     "output_type": "execute_result"
    },
    {
     "name": "stdout",
     "output_type": "stream",
     "text": [
      "<class 'pandas.core.frame.DataFrame'>\n",
      "RangeIndex: 594643 entries, 0 to 594642\n",
      "Data columns (total 10 columns):\n",
      " #   Column       Non-Null Count   Dtype  \n",
      "---  ------       --------------   -----  \n",
      " 0   step         594643 non-null  int64  \n",
      " 1   customer     594643 non-null  object \n",
      " 2   age          594643 non-null  object \n",
      " 3   gender       594643 non-null  object \n",
      " 4   zipcodeOri   594643 non-null  object \n",
      " 5   merchant     594643 non-null  object \n",
      " 6   zipMerchant  594643 non-null  object \n",
      " 7   category     594643 non-null  object \n",
      " 8   amount       594643 non-null  float64\n",
      " 9   fraud        594643 non-null  int64  \n",
      "dtypes: float64(1), int64(2), object(7)\n",
      "memory usage: 45.4+ MB\n"
     ]
    },
    {
     "data": {
      "text/plain": [
       "(594643, 10)"
      ]
     },
     "execution_count": 31,
     "metadata": {},
     "output_type": "execute_result"
    }
   ],
   "source": [
    "df = pd.read_csv(\"data/bs.csv\")\n",
    "#df = df[~df.category.isin([\"'es_transportation'\", \"'es_food'\", \"'es_contents'\"])]\n",
    "df.head()\n",
    "df.info()\n",
    "df.shape\n"
   ]
  },
  {
   "cell_type": "code",
   "execution_count": 34,
   "metadata": {},
   "outputs": [
    {
     "name": "stdout",
     "output_type": "stream",
     "text": [
      "excess kurtosis of normal distribution (should be 0): 1425.3116885527731\n",
      "skewness of normal distribution (should be 0): 32.36575650728976\n"
     ]
    }
   ],
   "source": [
    "from scipy.stats import kurtosis, skew\n",
    "\n",
    "print( 'excess kurtosis of normal distribution (should be 0): {}'.format( kurtosis(df.amount) ))\n",
    "print( 'skewness of normal distribution (should be 0): {}'.format( skew(df.amount) ))"
   ]
  },
  {
   "cell_type": "code",
   "execution_count": 35,
   "metadata": {},
   "outputs": [
    {
     "name": "stdout",
     "output_type": "stream",
     "text": [
      "fraud  fraud\n",
      "0      0        587443\n",
      "1      1          7200\n",
      "Name: fraud, dtype: int64\n",
      "fraud  category               \n",
      "0      'es_transportation'        505119\n",
      "       'es_food'                   26254\n",
      "       'es_health'                 14437\n",
      "       'es_wellnessandbeauty'      14368\n",
      "       'es_fashion'                 6338\n",
      "       'es_barsandrestaurants'      6253\n",
      "       'es_hyper'                   5818\n",
      "       'es_tech'                    2212\n",
      "       'es_sportsandtoys'           2020\n",
      "       'es_home'                    1684\n",
      "       'es_hotelservices'           1196\n",
      "       'es_contents'                 885\n",
      "       'es_otherservices'            684\n",
      "       'es_travel'                   150\n",
      "       'es_leisure'                   25\n",
      "1      'es_sportsandtoys'           1982\n",
      "       'es_health'                  1696\n",
      "       'es_wellnessandbeauty'        718\n",
      "       'es_travel'                   578\n",
      "       'es_hotelservices'            548\n",
      "       'es_leisure'                  474\n",
      "       'es_home'                     302\n",
      "       'es_hyper'                    280\n",
      "       'es_otherservices'            228\n",
      "       'es_tech'                     158\n",
      "       'es_barsandrestaurants'       120\n",
      "       'es_fashion'                  116\n",
      "Name: category, dtype: int64\n",
      "fraud  gender\n",
      "0      'F'       319807\n",
      "       'M'       265950\n",
      "       'E'         1171\n",
      "       'U'          515\n",
      "1      'F'         4758\n",
      "       'M'         2435\n",
      "       'E'            7\n",
      "Name: gender, dtype: int64\n",
      "fraud  age\n",
      "0      '2'    184966\n",
      "       '3'    145376\n",
      "       '4'    107615\n",
      "       '5'     61956\n",
      "       '1'     57442\n",
      "       '6'     26513\n",
      "       '0'      2404\n",
      "       'U'      1171\n",
      "1      '2'      2344\n",
      "       '3'      1755\n",
      "       '4'      1410\n",
      "       '1'       689\n",
      "       '5'       686\n",
      "       '6'       261\n",
      "       '0'        48\n",
      "       'U'         7\n",
      "Name: age, dtype: int64\n",
      "fraud  amount \n",
      "0      14.93      146\n",
      "       26.67      146\n",
      "       17.57      144\n",
      "       16.12      143\n",
      "       17.26      143\n",
      "                 ... \n",
      "1      7403.44      1\n",
      "       7432.48      1\n",
      "       7635.41      1\n",
      "       7665.56      1\n",
      "       8329.96      1\n",
      "Name: amount, Length: 25741, dtype: int64\n"
     ]
    }
   ],
   "source": [
    "cols = list(df.columns)\n",
    "fields = list(set(cols) - set([\"step\", \"customer\", \"merchant\", \"zipcodeOri\", \"zipMerchant\"]))\n",
    "for field in fields:\n",
    "    print(df.groupby(\"fraud\")[field].value_counts())"
   ]
  },
  {
   "cell_type": "code",
   "execution_count": 36,
   "metadata": {},
   "outputs": [
    {
     "data": {
      "text/plain": [
       "0"
      ]
     },
     "execution_count": 36,
     "metadata": {},
     "output_type": "execute_result"
    },
    {
     "data": {
      "text/plain": [
       "179"
      ]
     },
     "execution_count": 36,
     "metadata": {},
     "output_type": "execute_result"
    }
   ],
   "source": [
    "df.step.min()\n",
    "df.step.max()"
   ]
  },
  {
   "cell_type": "code",
   "execution_count": 44,
   "metadata": {},
   "outputs": [
    {
     "data": {
      "text/plain": [
       "count    594643.000000\n",
       "mean         37.890135\n",
       "std         111.402831\n",
       "min           0.000000\n",
       "25%          13.740000\n",
       "50%          26.900000\n",
       "75%          42.540000\n",
       "max        8329.960000\n",
       "Name: amount, dtype: float64"
      ]
     },
     "execution_count": 44,
     "metadata": {},
     "output_type": "execute_result"
    },
    {
     "data": {
      "text/plain": [
       "array([[<AxesSubplot:title={'center':'amount'}>]], dtype=object)"
      ]
     },
     "execution_count": 44,
     "metadata": {},
     "output_type": "execute_result"
    },
    {
     "data": {
      "image/png": "[encoded data removed]",
      "text/plain": [
       "<Figure size 432x288 with 1 Axes>"
      ]
     },
     "metadata": {
      "needs_background": "light"
     },
     "output_type": "display_data"
    }
   ],
   "source": [
    "#spread of amount#\n",
    "import matplotlib\n",
    "df.amount.describe()\n",
    "df.hist(column = 'amount', bins=100)"
   ]
  },
  {
   "cell_type": "code",
   "execution_count": 45,
   "metadata": {},
   "outputs": [
    {
     "data": {
      "text/plain": [
       "array([[<AxesSubplot:title={'center':'amount'}>]], dtype=object)"
      ]
     },
     "execution_count": 45,
     "metadata": {},
     "output_type": "execute_result"
    },
    {
     "data": {
      "image/png": "[encoded data removed]",
      "text/plain": [
       "<Figure size 432x288 with 1 Axes>"
      ]
     },
     "metadata": {
      "needs_background": "light"
     },
     "output_type": "display_data"
    }
   ],
   "source": [
    "#spread of amount past 1000 pounds#\n",
    "df[df.amount > 1000].hist(column = 'amount', bins=100)"
   ]
  },
  {
   "cell_type": "code",
   "execution_count": 46,
   "metadata": {},
   "outputs": [
    {
     "data": {
      "text/plain": [
       "count    594643.000000\n",
       "mean         37.890135\n",
       "std         111.402831\n",
       "min           0.000000\n",
       "25%          13.740000\n",
       "50%          26.900000\n",
       "75%          42.540000\n",
       "max        8329.960000\n",
       "Name: amount, dtype: float64"
      ]
     },
     "execution_count": 46,
     "metadata": {},
     "output_type": "execute_result"
    }
   ],
   "source": [
    "df.amount.describe()"
   ]
  },
  {
   "cell_type": "code",
   "execution_count": 47,
   "metadata": {},
   "outputs": [
    {
     "data": {
      "text/plain": [
       "0         (-8.33, 83.3]\n",
       "1         (-8.33, 83.3]\n",
       "2         (-8.33, 83.3]\n",
       "3         (-8.33, 83.3]\n",
       "4         (-8.33, 83.3]\n",
       "              ...      \n",
       "594638    (-8.33, 83.3]\n",
       "594639    (-8.33, 83.3]\n",
       "594640    (-8.33, 83.3]\n",
       "594641    (-8.33, 83.3]\n",
       "594642    (-8.33, 83.3]\n",
       "Name: amount, Length: 594643, dtype: category\n",
       "Categories (100, interval[float64]): [(-8.33, 83.3] < (83.3, 166.599] < (166.599, 249.899] < (249.899, 333.198] ... (7996.762, 8080.061] < (8080.061, 8163.361] < (8163.361, 8246.66] < (8246.66, 8329.96]]"
      ]
     },
     "execution_count": 47,
     "metadata": {},
     "output_type": "execute_result"
    }
   ],
   "source": [
    "pd.cut(df.amount, 100)"
   ]
  },
  {
   "cell_type": "code",
   "execution_count": 48,
   "metadata": {},
   "outputs": [
    {
     "data": {
      "text/plain": [
       "<AxesSubplot:>"
      ]
     },
     "execution_count": 48,
     "metadata": {},
     "output_type": "execute_result"
    },
    {
     "data": {
      "image/png": "[encoded data removed]",
      "text/plain": [
       "<Figure size 432x288 with 1 Axes>"
      ]
     },
     "metadata": {
      "needs_background": "light"
     },
     "output_type": "display_data"
    }
   ],
   "source": [
    "df[df.amount > 1000].amount.plot.box()"
   ]
  },
  {
   "cell_type": "code",
   "execution_count": 53,
   "metadata": {},
   "outputs": [
    {
     "data": {
      "text/plain": [
       "customer\n",
       "'C1000148617'     35.091908\n",
       "'C100045114'      90.336239\n",
       "'C1000699316'     38.154894\n",
       "'C1001065306'    204.754667\n",
       "'C1002658784'     34.253282\n",
       "                    ...    \n",
       "'C99729647'       32.555771\n",
       "'C998690782'      61.211637\n",
       "'C998987490'      32.273107\n",
       "'C999393223'      36.018944\n",
       "'C999723254'      29.184016\n",
       "Name: amount, Length: 4112, dtype: float64"
      ]
     },
     "execution_count": 53,
     "metadata": {},
     "output_type": "execute_result"
    }
   ],
   "source": [
    "# average amount per customer #\n",
    "df.groupby(['customer'])['amount'].mean()"
   ]
  },
  {
   "cell_type": "code",
   "execution_count": 54,
   "metadata": {},
   "outputs": [
    {
     "data": {
      "text/plain": [
       "merchant\n",
       "'M1053599405'     103.072322\n",
       "'M117188757'      105.102381\n",
       "'M1198415165'      94.622911\n",
       "'M1294758098'     289.667120\n",
       "'M1313686961'      44.593586\n",
       "'M1352454843'     109.981324\n",
       "'M1353266412'     377.828462\n",
       "'M1400236507'     116.117758\n",
       "'M1416436880'      91.267818\n",
       "'M151143676'       43.461014\n",
       "'M1535107174'      74.734347\n",
       "'M1600850729'      63.088700\n",
       "'M1649169323'     123.378210\n",
       "'M1726401631'     855.920000\n",
       "'M17379832'       250.377270\n",
       "'M1741626453'     173.341742\n",
       "'M1748431652'      76.526022\n",
       "'M1788569036'      94.689779\n",
       "'M1823072687'      26.953146\n",
       "'M1842530320'      99.586671\n",
       "'M1872033263'     114.769143\n",
       "'M1873032707'     376.237320\n",
       "'M1888755466'     135.881524\n",
       "'M1913465890'     104.441660\n",
       "'M1946091778'      57.067848\n",
       "'M2011752106'     323.581270\n",
       "'M2080407379'    2299.512292\n",
       "'M209847108'       62.391623\n",
       "'M2122776122'     322.579824\n",
       "'M348875670'      120.740467\n",
       "'M348934600'       26.965542\n",
       "'M349281107'       61.932704\n",
       "'M3697346'        288.442597\n",
       "'M45060432'       103.027016\n",
       "'M480139044'      244.694475\n",
       "'M495352832'     1618.723043\n",
       "'M50039827'       120.503755\n",
       "'M547558035'       84.130285\n",
       "'M677738360'       44.479832\n",
       "'M692898500'      110.711333\n",
       "'M732195782'     2325.101398\n",
       "'M78078399'        63.075243\n",
       "'M840466850'      137.082273\n",
       "'M855959430'       45.970421\n",
       "'M857378720'      356.235000\n",
       "'M85975013'        37.070405\n",
       "'M923029380'      205.740712\n",
       "'M933210764'      125.573043\n",
       "'M97925176'        56.637796\n",
       "'M980657600'      299.963646\n",
       "Name: amount, dtype: float64"
      ]
     },
     "execution_count": 54,
     "metadata": {},
     "output_type": "execute_result"
    }
   ],
   "source": [
    "# average amount per merchant #\n",
    "df.groupby(['merchant'])['amount'].mean()"
   ]
  },
  {
   "cell_type": "code",
   "execution_count": 55,
   "metadata": {},
   "outputs": [
    {
     "data": {
      "text/plain": [
       "'C1978250683'    265\n",
       "'C1275518867'    252\n",
       "'C806399525'     237\n",
       "'C515668508'     205\n",
       "'C1338396147'    195\n",
       "                ... \n",
       "'C1345586046'      6\n",
       "'C1156745710'      6\n",
       "'C1809646275'      5\n",
       "'C1404665203'      5\n",
       "'C1743702978'      5\n",
       "Name: customer, Length: 4112, dtype: int64"
      ]
     },
     "execution_count": 55,
     "metadata": {},
     "output_type": "execute_result"
    }
   ],
   "source": [
    "# number of transactions per customer #\n",
    "df.customer.value_counts()"
   ]
  },
  {
   "cell_type": "code",
   "execution_count": 56,
   "metadata": {},
   "outputs": [
    {
     "data": {
      "text/plain": [
       "'M1823072687'    299693\n",
       "'M348934600'     205426\n",
       "'M85975013'       26254\n",
       "'M1053599405'      6821\n",
       "'M151143676'       6373\n",
       "'M855959430'       6098\n",
       "'M1946091778'      5343\n",
       "'M1913465890'      3988\n",
       "'M209847108'       3814\n",
       "'M480139044'       3508\n",
       "'M349281107'       2881\n",
       "'M1600850729'      2624\n",
       "'M1535107174'      1868\n",
       "'M980657600'       1769\n",
       "'M78078399'        1608\n",
       "'M1198415165'      1580\n",
       "'M840466850'       1399\n",
       "'M1649169323'      1173\n",
       "'M547558035'        949\n",
       "'M50039827'         916\n",
       "'M1888755466'       912\n",
       "'M692898500'        900\n",
       "'M1400236507'       776\n",
       "'M1842530320'       751\n",
       "'M732195782'        608\n",
       "'M97925176'         599\n",
       "'M45060432'         573\n",
       "'M1741626453'       528\n",
       "'M1313686961'       527\n",
       "'M1872033263'       525\n",
       "'M1352454843'       370\n",
       "'M677738360'        358\n",
       "'M2122776122'       341\n",
       "'M923029380'        323\n",
       "'M3697346'          308\n",
       "'M17379832'         282\n",
       "'M1748431652'       274\n",
       "'M1873032707'       250\n",
       "'M2011752106'       244\n",
       "'M1416436880'       220\n",
       "'M1294758098'       191\n",
       "'M1788569036'       181\n",
       "'M857378720'        122\n",
       "'M348875670'        107\n",
       "'M1353266412'        78\n",
       "'M933210764'         69\n",
       "'M495352832'         69\n",
       "'M2080407379'        48\n",
       "'M117188757'         21\n",
       "'M1726401631'         3\n",
       "Name: merchant, dtype: int64"
      ]
     },
     "execution_count": 56,
     "metadata": {},
     "output_type": "execute_result"
    }
   ],
   "source": [
    "# number of transactions per merchant #\n",
    "df.merchant.value_counts()\n"
   ]
  }
 ],
 "metadata": {
  "interpreter": {
   "hash": "6bf7d1c80fd99c1dad88aa8290e6f5946d5a765099aba7dd22194a1cd5cb7e46"
  },
  "kernelspec": {
   "display_name": "Python 3.8.8 64-bit ('base': conda)",
   "name": "python3"
  },
  "language_info": {
   "codemirror_mode": {
    "name": "ipython",
    "version": 3
   },
   "file_extension": ".py",
   "mimetype": "text/x-python",
   "name": "python",
   "nbconvert_exporter": "python",
   "pygments_lexer": "ipython3",
   "version": "3.8.8"
  },
  "orig_nbformat": 4
 },
 "nbformat": 4,
 "nbformat_minor": 2
}
